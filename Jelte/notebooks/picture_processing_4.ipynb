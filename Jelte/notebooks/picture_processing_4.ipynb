{
 "cells": [
  {
   "cell_type": "markdown",
   "metadata": {},
   "source": [
    "# Picture processing\n",
    "\n",
    "by: Jelte Molenaar en Michiel van Soest\n",
    "\n",
    "In deze notebook worden de huidige afbeeldingen aangepast en opgeslagen om meer data te creëren voor het RCNN. De code bestaat uit verschillende delen waarin fotos bewerkt en gevisualiseerd worden. "
   ]
  },
  {
   "cell_type": "markdown",
   "metadata": {},
   "source": [
    "### Importeren en path selecteren\n",
    "In het eerste gedeelte van de code worden de benodigde libaries geimporteerd en de verschillende pade toegekend aan locaties waarheen de nieuwe frames heen geschreven worden. "
   ]
  },
  {
   "cell_type": "code",
   "execution_count": 1,
   "metadata": {},
   "outputs": [],
   "source": [
    "from PIL import Image\n",
    "from PIL import ImageEnhance\n",
    "import glob\n",
    "import matplotlib.pyplot as plt"
   ]
  },
  {
   "cell_type": "code",
   "execution_count": 2,
   "metadata": {},
   "outputs": [],
   "source": [
    "# folder path voor de output\n",
    "folder_path = \"/datc/shipping/processed_pictures_j/frames/\"\n",
    "folder_path_overlay = \"/datc/shipping/processed_pictures_j/overlays/\""
   ]
  },
  {
   "cell_type": "markdown",
   "metadata": {},
   "source": [
    "### Aanpassingen op de originele frame\n",
    "Hieronder staan de 5 verschillende factoren. Deze factoren worden later gebruikt in de code. Bij elke factor is toegekend aan waardes in een lijst. In het geval hieronder zijn alleen de maximale waarde(s) gebruikt om de te verminderen als er getest wordt met het script.   "
   ]
  },
  {
   "cell_type": "code",
   "execution_count": 3,
   "metadata": {},
   "outputs": [],
   "source": [
    "brightness_factor = [0.3,1.4]        # [0.4,0.5,0.6,0.7,0.8,0.9,1.1,1.2,1.3,1.4]\n",
    "contrast_factor   = [0.3,1.4]        # [0.4,0.5,0.6,0.7,0.8,0.9,1.0,1.2,1.3,1.4]\n",
    "sharpness_factor  = [5.0,20.0]        # [5.0, 10.0, 15.0, 20.0]\n",
    "color_factor      = [0.0,10.0]             # [0.0, 3.0, 6.0, 10.0]\n",
    "mirror_factor     = [1]"
   ]
  },
  {
   "cell_type": "markdown",
   "metadata": {},
   "source": [
    "### Functies | Aanpassen afbeeldingen\n",
    "In de functies hieronder worden de helderheid, contrast, scherpte en kleur van de afbeeldingen aangepast. Elke functie heeft hiervoor de orginele afbeelding , framenummer en factor waarmee de desbetreffende afbeelding wordt aangepast nodig. Nadat er een naam aangemaakt wordt ondergaat de afbeelding de verandering en wordt het opgeslagen. <br/>\n",
    "\n",
    "De reden dat er functies zijn aangemaakt is dat dit de mogelijkheid bied om de functies een voor een aan te roepen. Hierdoor kan per functie aangepast worden hoe vaak en met welke waarde deze een output genereerd."
   ]
  },
  {
   "cell_type": "code",
   "execution_count": 4,
   "metadata": {},
   "outputs": [],
   "source": [
    "def adjust_brightness(img_origional, frame_number, brightness_factor):\n",
    "    frame_savename = folder_path + 'frame_' + str(frame_number) +'.jpg'\n",
    "    enhancer_object = ImageEnhance.Brightness(img_origional)\n",
    "    out = enhancer_object.enhance(brightness_factor)\n",
    "    out.save(frame_savename)\n"
   ]
  },
  {
   "cell_type": "code",
   "execution_count": 5,
   "metadata": {},
   "outputs": [],
   "source": [
    "def adjust_contrast(img_origional, frame_number, contrast_factor):\n",
    "    frame_savename = folder_path + 'frame_' + str(frame_number) +'.jpg'\n",
    "    enhancer_object = ImageEnhance.Contrast(img_origional)\n",
    "    out = enhancer_object.enhance(contrast_factor)\n",
    "    out.save(frame_savename)\n",
    "    "
   ]
  },
  {
   "cell_type": "code",
   "execution_count": 6,
   "metadata": {},
   "outputs": [],
   "source": [
    "def adjust_sharpness(img_origional, frame_number, sharpness_factor):\n",
    "    frame_savename = folder_path + 'frame_' + str(frame_number) +'.jpg'\n",
    "    enhancer_object = ImageEnhance.Sharpness(img_origional)\n",
    "    out = enhancer_object.enhance(sharpness_factor)\n",
    "    out.save(frame_savename)"
   ]
  },
  {
   "cell_type": "code",
   "execution_count": 7,
   "metadata": {},
   "outputs": [],
   "source": [
    "def adjust_color(img_origional, frame_number, color_factor):\n",
    "    frame_savename =  folder_path + 'frame_' + str(frame_number) +'.jpg'\n",
    "    enhancer_object = ImageEnhance.Color(img_origional)\n",
    "    out = enhancer_object.enhance(color_factor)\n",
    "    out.save(frame_savename)"
   ]
  },
  {
   "cell_type": "markdown",
   "metadata": {},
   "source": [
    "### Functie | Copy overlay\n",
    "Bij elke afbeelding is een overlay noodzakelijk om het NN te kunnen voorzien van de juiste informatie. Wanneer een orginele afbeelding wordt veranderd moet hierbij de overlay in tact blijven maar wel de passende naam krijgen die bij de afbeelding hoort. In de copy_overlay functie gebeurt dit. De orginele overlay wordt gepakt en krijgt de naam van het daarbij horende aangepast frame. Daarna wordt de overlay opgeslagen op de locatie waarin alle overlays staan. "
   ]
  },
  {
   "cell_type": "code",
   "execution_count": 8,
   "metadata": {},
   "outputs": [],
   "source": [
    "def copy_overlay(overlay_origional, frame_number, overlay_number):\n",
    "    overlay_savename = folder_path_overlay + 'frame_' + str(frame_number) +'_mask.gif'\n",
    "    overlay_origional.save(overlay_savename)"
   ]
  },
  {
   "cell_type": "markdown",
   "metadata": {},
   "source": [
    "### Functie | Spiegelen afbeelding\n",
    "Naast de functies om de  helderheid, contrast, scherpte en kleur van een afbeelding aan te passen is het ook mogelijk om de afbeelding te spiegelen. Dit biedt mogelijkheden om de dataset uit te breiden. In de twee onderstaande functies worden de originele afbeelding en overlay gespiegeld en voorzien van een nieuwe naam. Vervolgens worden deze opgeslagen op de desbetreffende locatie. "
   ]
  },
  {
   "cell_type": "code",
   "execution_count": 9,
   "metadata": {
    "scrolled": true
   },
   "outputs": [],
   "source": [
    "def mirror_image_origional(img_origional, frame_number, mirror_factor):\n",
    "    frame_savename =  folder_path + 'frame_' + str(frame_number) +'.jpg'\n",
    "    out = img_origional.transpose(Image.FLIP_LEFT_RIGHT)\n",
    "    out.save(frame_savename)"
   ]
  },
  {
   "cell_type": "code",
   "execution_count": 10,
   "metadata": {},
   "outputs": [],
   "source": [
    "def mirror_image_overlay(overlay_origional, frame_number, overlay_number):\n",
    "    overlay_savename = \"/datc/shipping/processed_pictures_j/overlays/frame_\"+ str(frame_number) +'_mask.gif'\n",
    "    out = overlay_origional.transpose(Image.FLIP_LEFT_RIGHT)\n",
    "    out.save(overlay_savename)"
   ]
  },
  {
   "cell_type": "markdown",
   "metadata": {},
   "source": [
    "### Functie | Loop\n",
    "In de changeimage functie worden de bovenstaande functies aangeroepen. Aan het begin wordt de orginele afbeelding aangeroepen. Vervolgens wordt gekeken naar hoe vaak de aanpassing aan de afbeelding gedaan moet worden (kijken naar hoeveel factoren er aanwezig zijn). Daarna wordt het framenummer 1 hoger en ondergaat de afbeelding de daadwerkelijke verandering. Om tijdens het maken van deze cel mogelijke fouten te ontdekken wordt het framenummer en de type verandering geprint. Als laatste wordt de overlay gekopierd en in het geval van het spiegelen, eerst gespiegeld en daarna gekopieerd. "
   ]
  },
  {
   "cell_type": "code",
   "execution_count": 11,
   "metadata": {},
   "outputs": [],
   "source": [
    "def changeimage(location_frames,brightness_factor,contrast_factor,sharpness_factor,color_factor, frame_number, location_overlays):\n",
    "    img_origional = Image.open(location_frames)\n",
    "    overlay_origional = Image.open(location_overlays)\n",
    "    for x in brightness_factor:\n",
    "        frame_number = frame_number + 1\n",
    "        adjust_brightness(img_origional, frame_number, x)\n",
    "        print(frame_number, \"brightness\", x)\n",
    "        copy_overlay(overlay_origional, frame_number, overlay_number)\n",
    "\n",
    "    for x in contrast_factor:\n",
    "        frame_number = frame_number + 1\n",
    "        adjust_contrast(img_origional, frame_number, x)\n",
    "        print(frame_number, \"contrast\" , x)\n",
    "       \n",
    "        copy_overlay(overlay_origional, frame_number, overlay_number)\n",
    "\n",
    "    for x in sharpness_factor:\n",
    "        frame_number = frame_number + 1\n",
    "        adjust_sharpness(img_origional, frame_number, x)\n",
    "        print(frame_number, \"sharpness\", x)\n",
    "     \n",
    "        copy_overlay(overlay_origional, frame_number, overlay_number)\n",
    "\n",
    "    for x in color_factor:\n",
    "        frame_number = frame_number + 1\n",
    "        adjust_color(img_origional, frame_number, x)\n",
    "        print(frame_number, \"Color\", x)\n",
    "     \n",
    "        copy_overlay(overlay_origional, frame_number, overlay_number)\n",
    "    \n",
    "    for x in mirror_factor:\n",
    "        frame_number = frame_number + 1\n",
    "        mirror_image_origional(img_origional, frame_number, x)\n",
    "        print(frame_number, \"mirror origional\")\n",
    "    \n",
    "        mirror_image_overlay(overlay_origional, frame_number, overlay_number)\n",
    "        \n",
    "    return frame_number        "
   ]
  },
  {
   "cell_type": "markdown",
   "metadata": {},
   "source": [
    "## Delete files\n",
    "Met het onderstaande script worden de oude frames en overlays verwijderd uit de aangegeven. Het verwijderen van de files op deze manier heeft voorkeur boven het handmatig verwijderen, met name op de server kost dit veel tijd. "
   ]
  },
  {
   "cell_type": "code",
   "execution_count": 12,
   "metadata": {},
   "outputs": [],
   "source": [
    "#clean directory\n",
    "\n",
    "import glob, os, os.path\n",
    "\n",
    "mydir = '/datc/shipping/processed_pictures_j/frames/'\n",
    "\n",
    "filelist = glob.glob(os.path.join(mydir, \"*.jpg\"))\n",
    "for f in filelist:\n",
    "    os.remove(f)\n",
    "    \n",
    "mydir = '/datc/shipping/processed_pictures_j/overlays/'\n",
    "\n",
    "filelist = glob.glob(os.path.join(mydir, \"*.gif\"))\n",
    "for f in filelist:\n",
    "    os.remove(f)\n"
   ]
  },
  {
   "cell_type": "markdown",
   "metadata": {},
   "source": [
    "### Aanmaken frames en overlays met aanpassingen\n",
    "Nadat de map met oude frames leeg is gehaald kunnen de afbeeldingen daadwerkelijk gerealiseerd worden. Dit gebeurt in de cel hieronder. Hier wordt de functie changeimage net zo vaak aangeroepen als er afbeeldingen beschikbaar zijn in het geselecteerde folder."
   ]
  },
  {
   "cell_type": "code",
   "execution_count": 13,
   "metadata": {
    "scrolled": true
   },
   "outputs": [
    {
     "name": "stdout",
     "output_type": "stream",
     "text": [
      "3 frames in directory\n",
      "9 adjustments on frames\n",
      "___________________ bewerken afbeelding 1 ___________________\n",
      "251 brightness 0.3\n",
      "252 brightness 1.4\n",
      "253 contrast 0.3\n",
      "254 contrast 1.4\n",
      "255 sharpness 5.0\n",
      "256 sharpness 20.0\n",
      "257 Color 0.0\n",
      "258 Color 10.0\n",
      "259 mirror origional\n",
      "___________________ bewerken afbeelding 2 ___________________\n",
      "260 brightness 0.3\n",
      "261 brightness 1.4\n",
      "262 contrast 0.3\n",
      "263 contrast 1.4\n",
      "264 sharpness 5.0\n",
      "265 sharpness 20.0\n",
      "266 Color 0.0\n",
      "267 Color 10.0\n",
      "268 mirror origional\n",
      "___________________ bewerken afbeelding 3 ___________________\n",
      "269 brightness 0.3\n",
      "270 brightness 1.4\n",
      "271 contrast 0.3\n",
      "272 contrast 1.4\n",
      "273 sharpness 5.0\n",
      "274 sharpness 20.0\n",
      "275 Color 0.0\n",
      "276 Color 10.0\n",
      "277 mirror origional\n"
     ]
    }
   ],
   "source": [
    "#\"test weghalen als het geen test meer is\"\n",
    "frame_number = 250\n",
    "overlay_number = 250\n",
    "\n",
    "frames_number = glob.glob(\"/datc/shipping/origional_pictures_j/frames_test/*\")\n",
    "frames_number = len(frames_number)\n",
    "print(frames_number, \"frames in directory\"  )\n",
    "frames =  len(brightness_factor) + len(sharpness_factor) + len(color_factor) + len(contrast_factor) + len(mirror_factor) #aantal bewerkingen\n",
    "print(frames, \"adjustments on frames\"  )\n",
    "\n",
    "frame = \"/datc/shipping/origional_pictures_j/frames_test/frame_1.jpg\" #origional image\n",
    "overlay = '/datc/shipping/origional_pictures_j/overlays_test/frame_1_mask.gif' #origional overlay\n",
    "\n",
    "for i in range(frames_number):\n",
    "    print(\"___________________\",\"bewerken afbeelding\",i + 1,\"___________________\")\n",
    "    changeimage(frame,brightness_factor,contrast_factor,sharpness_factor,color_factor, frame_number, overlay)\n",
    "    frame_number = frame_number + frames\n",
    "    \n",
    "    frame = '/datc/shipping/origional_pictures_j/frames_test/frame_'+str(i + 1)+'.jpg' #origional image\n",
    "    overlay = '/datc/shipping/origional_pictures_j/overlays_test/frame_'+str(i + 1)+'_mask.gif' #origional overlay\n"
   ]
  },
  {
   "cell_type": "markdown",
   "metadata": {},
   "source": [
    "## Visualiseren\n",
    "Tijdens het debuggen van de de bovenstaande code liepen we meerdere malen tegen het probleem aan dat het moeilijk was om controleren of de frames en overlays bij elkaar paste. Hiervoor is het volgende stuk code gerealiseerd. \n",
    "In dit stuk code was het mogelijk om een framenummer te selecteren (vaak het framenummer waarbij er van origneel frame gewisseld werd) en de afbeelding die ervoor en erna komt te zien. Het bewerkte frames worden onder de overlay geplaast, daarna is het mogelijk om visueel te controlleren of de frames en overlays passend zijn.  "
   ]
  },
  {
   "cell_type": "code",
   "execution_count": 14,
   "metadata": {},
   "outputs": [],
   "source": [
    "select_frame_number = 259\n",
    "location_frame = '/datc/shipping/processed_pictures_j/frames/frame_'\n",
    "location_overlay = '/datc/shipping/processed_pictures_j/overlays/frame_'"
   ]
  },
  {
   "cell_type": "code",
   "execution_count": 15,
   "metadata": {},
   "outputs": [
    {
     "name": "stdout",
     "output_type": "stream",
     "text": [
      "259 258 260\n"
     ]
    },
    {
     "data": {
      "image/png": "[encoded data removed]",
      "text/plain": [
       "<Figure size 432x288 with 6 Axes>"
      ]
     },
     "metadata": {
      "needs_background": "light"
     },
     "output_type": "display_data"
    }
   ],
   "source": [
    "select_frame_number_2 = select_frame_number - 1\n",
    "select_frame_number_3 = select_frame_number + 1\n",
    "\n",
    "print(select_frame_number, select_frame_number_2, select_frame_number_3)\n",
    "\n",
    "img_frame = location_frame + str(select_frame_number)+'.jpg'\n",
    "img_overlay = location_overlay + str(select_frame_number) + '_mask.gif'\n",
    "\n",
    "img_frame_2 = location_frame + str(select_frame_number_2)+'.jpg'\n",
    "img_overlay_2 = location_overlay + str(select_frame_number_2) + '_mask.gif'\n",
    "\n",
    "img_frame_3 = location_frame + str(select_frame_number_3)+'.jpg'\n",
    "img_overlay_3 = location_overlay + str(select_frame_number_3) + '_mask.gif'\n",
    "\n",
    "read_img_frame = plt.imread(img_frame)\n",
    "read_img_overlay = plt.imread(img_overlay)\n",
    "\n",
    "read_img_frame_2 = plt.imread(img_frame_2)\n",
    "read_img_overlay_2 = plt.imread(img_overlay_2)\n",
    "\n",
    "read_img_frame_3 = plt.imread(img_frame_3)\n",
    "read_img_overlay_3 = plt.imread(img_overlay_3)\n",
    "\n",
    "# frame before\n",
    "plt.subplot(2,3,1)\n",
    "plt.imshow(read_img_frame_2)\n",
    "plt.title('frame')\n",
    "plt.axis('off')\n",
    "\n",
    "# overlay before\n",
    "plt.subplot(2,3,4)\n",
    "plt.imshow(read_img_overlay_2)\n",
    "plt.title('overlay')\n",
    "plt.axis('off')\n",
    "\n",
    "# frame original\n",
    "plt.subplot(2,3,2)\n",
    "plt.imshow(read_img_frame)\n",
    "plt.title('frame')\n",
    "plt.axis('off')\n",
    "\n",
    "# overlay original\n",
    "plt.subplot(2,3,5)\n",
    "plt.imshow(read_img_overlay)\n",
    "plt.title('frame')\n",
    "plt.axis('off')\n",
    "\n",
    "#\n",
    "plt.subplot(2,3,3)\n",
    "plt.imshow(read_img_frame_3)\n",
    "plt.title('frame')\n",
    "plt.axis('off')\n",
    "\n",
    "plt.subplot(2,3,6)\n",
    "plt.imshow(read_img_overlay_3)\n",
    "plt.title('frame')\n",
    "plt.axis('off')\n",
    "\n",
    "plt.show()"
   ]
  },
  {
   "cell_type": "code",
   "execution_count": null,
   "metadata": {},
   "outputs": [],
   "source": []
  }
 ],
 "metadata": {
  "kernelspec": {
   "display_name": "Python 3",
   "language": "python",
   "name": "python3"
  },
  "language_info": {
   "codemirror_mode": {
    "name": "ipython",
    "version": 3
   },
   "file_extension": ".py",
   "mimetype": "text/x-python",
   "name": "python",
   "nbconvert_exporter": "python",
   "pygments_lexer": "ipython3",
   "version": "3.6.7"
  }
 },
 "nbformat": 4,
 "nbformat_minor": 1
}
