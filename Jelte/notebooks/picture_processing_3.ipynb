{
 "cells": [
  {
   "cell_type": "markdown",
   "metadata": {},
   "source": [
    "# Picture processing\n",
    "\n",
    "by: Jelte Molenaar en Michiel van Soest\n",
    "\n",
    "In deze notebook worden de huidige afbeeldingen aangepast en opgeslagen om meer data te creëren voor het RCNN."
   ]
  },
  {
   "cell_type": "code",
   "execution_count": 9,
   "metadata": {},
   "outputs": [],
   "source": [
    "from PIL import Image\n",
    "from PIL import ImageEnhance\n",
    "import glob\n",
    "import matplotlib.pyplot as plt"
   ]
  },
  {
   "cell_type": "code",
   "execution_count": 10,
   "metadata": {},
   "outputs": [],
   "source": [
    "# folder path voor de output\n",
    "folder_path = \"/datc/shipping/processed_pictures_j/frames/\"\n",
    "folder_path_overlay = \"/datc/shipping/processed_pictures_j/overlays/\""
   ]
  },
  {
   "cell_type": "markdown",
   "metadata": {},
   "source": [
    "## Aanpassingen op de originele frame"
   ]
  },
  {
   "cell_type": "code",
   "execution_count": 11,
   "metadata": {},
   "outputs": [],
   "source": [
    "brightness_factor = [0.3,1.4]        # [0.4,0.5,0.6,0.7,0.8,0.9,1.1,1.2,1.3,1.4]\n",
    "contrast_factor   = [0.3,1.4]        # [0.4,0.5,0.6,0.7,0.8,0.9,1.0,1.2,1.3,1.4]\n",
    "sharpness_factor  = [5.0,20.0]        # [5.0, 10.0, 15.0, 20.0]\n",
    "color_factor      = [0.0,10.0]             # [0.0, 3.0, 6.0, 10.0]\n",
    "mirror_factor     = [1]"
   ]
  },
  {
   "cell_type": "markdown",
   "metadata": {},
   "source": [
    "## Functies | Aanpassen afbeeldingen\n",
    "In de functies hieronder worden de helderheid, contrast, scherpte en kleur van de afbeeldingen aangepast. Elke functie heeft hiervoor de orginele afbeelding , framenummer en factor waarmee de desbetreffende afbeelding wordt aangepast nodig. Nadat er een naam aangemaakt wordt ondergaat de afbeelding de verandering en wordt het opgeslagen. <br/>\n",
    "\n",
    "De reden dat er functies zijn aangemaakt is dat dit de mogelijkheid bied om de functies een voor een aan te roepen. Hierdoor kan per functie aangepast worden hoe vaak en met welke waarde deze een output genereerd."
   ]
  },
  {
   "cell_type": "code",
   "execution_count": 12,
   "metadata": {},
   "outputs": [],
   "source": [
    "def adjust_brightness(img_origional, frame_number, brightness_factor):\n",
    "    frame_savename = folder_path + 'frame_' + str(frame_number) +'.jpg'\n",
    "    enhancer_object = ImageEnhance.Brightness(img_origional)\n",
    "    out = enhancer_object.enhance(brightness_factor)\n",
    "    out.save(frame_savename)\n"
   ]
  },
  {
   "cell_type": "code",
   "execution_count": 13,
   "metadata": {},
   "outputs": [],
   "source": [
    "def adjust_contrast(img_origional, frame_number, contrast_factor):\n",
    "    frame_savename = folder_path + 'frame_' + str(frame_number) +'.jpg'\n",
    "    enhancer_object = ImageEnhance.Contrast(img_origional)\n",
    "    out = enhancer_object.enhance(contrast_factor)\n",
    "    out.save(frame_savename)\n",
    "    "
   ]
  },
  {
   "cell_type": "code",
   "execution_count": 14,
   "metadata": {},
   "outputs": [],
   "source": [
    "def adjust_sharpness(img_origional, frame_number, sharpness_factor):\n",
    "    frame_savename = folder_path + 'frame_' + str(frame_number) +'.jpg'\n",
    "    enhancer_object = ImageEnhance.Sharpness(img_origional)\n",
    "    out = enhancer_object.enhance(sharpness_factor)\n",
    "    out.save(frame_savename)"
   ]
  },
  {
   "cell_type": "code",
   "execution_count": 15,
   "metadata": {},
   "outputs": [],
   "source": [
    "def adjust_color(img_origional, frame_number, color_factor):\n",
    "    frame_savename =  folder_path + 'frame_' + str(frame_number) +'.jpg'\n",
    "    enhancer_object = ImageEnhance.Color(img_origional)\n",
    "    out = enhancer_object.enhance(color_factor)\n",
    "    out.save(frame_savename)"
   ]
  },
  {
   "cell_type": "markdown",
   "metadata": {},
   "source": [
    "## Functie | Copy overlay\n",
    "Bij elke afbeelding is een overlay noodzakelijk om het NN te kunnen voorzien van de juiste informatie. Wanneer een orginele afbeelding wordt veranderd moet hierbij de overlay in tact blijven maar wel de passende naam krijgen die bij de afbeelding hoort. In de copy_overlay functie gebeurt dit. De orginele overlay wordt gepakt en krijgt de naam van het daarbij horende aangepast frame. Daarna wordt de overlay opgeslagen op de locatie waarin alle overlays staan. "
   ]
  },
  {
   "cell_type": "code",
   "execution_count": 16,
   "metadata": {},
   "outputs": [],
   "source": [
    "def copy_overlay(overlay_origional, frame_number, overlay_number):\n",
    "    overlay_savename = folder_path_overlay + 'frame_' + str(frame_number) +'_mask.gif'\n",
    "    overlay_origional.save(overlay_savename)"
   ]
  },
  {
   "cell_type": "markdown",
   "metadata": {},
   "source": [
    "## Functie | Spiegelen afbeelding\n",
    "Naast de functies om de  helderheid, contrast, scherpte en kleur van een afbeelding aan te passen is het ook mogelijk om de afbeelding te spiegelen. Dit biedt mogelijkheden om de dataset uit te breiden. In de twee onderstaande functies worden de originele afbeelding en overlay gespiegeld en voorzien van een nieuwe naam. Vervolgens worden deze opgeslagen op de desbetreffende locatie. "
   ]
  },
  {
   "cell_type": "code",
   "execution_count": 17,
   "metadata": {
    "scrolled": true
   },
   "outputs": [],
   "source": [
    "def mirror_image_origional(img_origional, frame_number, mirror_factor):\n",
    "    frame_savename =  folder_path + 'frame_' + str(frame_number) +'.jpg'\n",
    "    out = img_origional.transpose(Image.FLIP_LEFT_RIGHT)\n",
    "    out.save(frame_savename)"
   ]
  },
  {
   "cell_type": "code",
   "execution_count": 18,
   "metadata": {},
   "outputs": [],
   "source": [
    "def mirror_image_overlay(overlay_origional, frame_number, overlay_number):\n",
    "    overlay_savename = \"/datc/shipping/processed_pictures_j/overlays/frame_\"+ str(frame_number) +'_mask.gif'\n",
    "    out = overlay_origional.transpose(Image.FLIP_LEFT_RIGHT)\n",
    "    out.save(overlay_savename)"
   ]
  },
  {
   "cell_type": "markdown",
   "metadata": {},
   "source": [
    "## Functie | Loop\n",
    "In de changeimage functie worden de bovenstaande functies aangeroepen. Aan het begin wordt de orginele afbeelding aangeroepen. Vervolgens wordt gekeken naar hoe vaak de aanpassing aan de afbeelding gedaan moet worden (kijken naar hoeveel factoren er aanwezig zijn). Daarna wordt het framenummer 1 hoger en ondergaat de afbeelding de daadwerkelijke verandering. Om tijdens het maken van deze cel mogelijke fouten te ontdekken wordt het framenummer en de type verandering geprint. Als laatste wordt de overlay gekopierd en in het geval van het spiegelen, eerst gespiegeld en daarna gekopieerd. "
   ]
  },
  {
   "cell_type": "code",
   "execution_count": 19,
   "metadata": {},
   "outputs": [],
   "source": [
    "def changeimage(location_frames,brightness_factor,contrast_factor,sharpness_factor,color_factor, frame_number, location_overlays):\n",
    "    img_origional = Image.open(location_frames)\n",
    "    overlay_origional = Image.open(location_overlays)\n",
    "    for x in brightness_factor:\n",
    "        frame_number = frame_number + 1\n",
    "        adjust_brightness(img_origional, frame_number, x)\n",
    "        print(frame_number, \"brightness\", x)\n",
    "        copy_overlay(overlay_origional, frame_number, overlay_number)\n",
    "\n",
    "    for x in contrast_factor:\n",
    "        frame_number = frame_number + 1\n",
    "        adjust_contrast(img_origional, frame_number, x)\n",
    "        print(frame_number, \"contrast\" , x)\n",
    "       \n",
    "        copy_overlay(overlay_origional, frame_number, overlay_number)\n",
    "\n",
    "    for x in sharpness_factor:\n",
    "        frame_number = frame_number + 1\n",
    "        adjust_sharpness(img_origional, frame_number, x)\n",
    "        print(frame_number, \"sharpness\", x)\n",
    "     \n",
    "        copy_overlay(overlay_origional, frame_number, overlay_number)\n",
    "\n",
    "    for x in color_factor:\n",
    "        frame_number = frame_number + 1\n",
    "        adjust_color(img_origional, frame_number, x)\n",
    "        print(frame_number, \"Color\", x)\n",
    "     \n",
    "        copy_overlay(overlay_origional, frame_number, overlay_number)\n",
    "    \n",
    "    for x in mirror_factor:\n",
    "        frame_number = frame_number + 1\n",
    "        mirror_image_origional(img_origional, frame_number, x)\n",
    "        print(frame_number, \"mirror origional\")\n",
    "    \n",
    "        mirror_image_overlay(overlay_origional, frame_number, overlay_number)\n",
    "        \n",
    "    return frame_number        "
   ]
  },
  {
   "cell_type": "markdown",
   "metadata": {},
   "source": [
    "# Delete files\n",
    "Met het onderstaande script worden de oude frames en overlays verwijderd uit de aangegeven. Het verwijderen van de files op deze manier heeft voorkeur boven het handmatig verwijderen, met name op de server kost dit veel tijd. "
   ]
  },
  {
   "cell_type": "code",
   "execution_count": 20,
   "metadata": {},
   "outputs": [],
   "source": [
    "#clean directory\n",
    "\n",
    "import glob, os, os.path\n",
    "\n",
    "mydir = '/datc/shipping/processed_pictures_j/frames/'\n",
    "\n",
    "filelist = glob.glob(os.path.join(mydir, \"*.jpg\"))\n",
    "for f in filelist:\n",
    "    os.remove(f)\n",
    "    \n",
    "mydir = '/datc/shipping/processed_pictures_j/overlays/'\n",
    "\n",
    "filelist = glob.glob(os.path.join(mydir, \"*.gif\"))\n",
    "for f in filelist:\n",
    "    os.remove(f)\n"
   ]
  },
  {
   "cell_type": "markdown",
   "metadata": {},
   "source": [
    "## Aanmaken frames en overlays met aanpassingen"
   ]
  },
  {
   "cell_type": "code",
   "execution_count": 21,
   "metadata": {
    "scrolled": true
   },
   "outputs": [
    {
     "name": "stdout",
     "output_type": "stream",
     "text": [
      "0 frames in directory\n",
      "9 adjustments on frames\n"
     ]
    }
   ],
   "source": [
    "#\"test weghalen als het geen test meer is\"\n",
    "frame_number = 250\n",
    "overlay_number = 9999\n",
    "\n",
    "frames_number = glob.glob(\"/datc/shipping/origional_pictures_j/frames_test/*\")\n",
    "frames_number = len(frames_number)\n",
    "print(frames_number, \"frames in directory\"  )\n",
    "frames =  len(brightness_factor) + len(sharpness_factor) + len(color_factor) + len(contrast_factor) + len(mirror_factor) #aantal bewerkingen\n",
    "print(frames, \"adjustments on frames\"  )\n",
    "\n",
    "frame = \"/datc/shipping/origional_pictures_j/frames_test/frame_1.jpg\" #origional image\n",
    "overlay = '/datc/shipping/origional_pictures_j/overlays_test/frame_1_mask.gif' #origional overlay\n",
    "\n",
    "for i in range(frames_number):\n",
    "    print(\"___________________\",\"bewerken afbeelding\",i + 1,\"___________________\")\n",
    "    changeimage(frame,brightness_factor,contrast_factor,sharpness_factor,color_factor, frame_number, overlay)\n",
    "    frame_number = frame_number + frames\n",
    "    \n",
    "    frame = '/datc/shipping/origional_pictures_j/frames_test/frame_'+str(i + 1)+'.jpg' #origional image\n",
    "    overlay = '/datc/shipping/origional_pictures_j/overlays_test/frame_'+str(i + 1)+'_mask.gif' #origional overlay\n"
   ]
  },
  {
   "cell_type": "markdown",
   "metadata": {},
   "source": [
    "# Visualiseren"
   ]
  },
  {
   "cell_type": "code",
   "execution_count": 22,
   "metadata": {},
   "outputs": [
    {
     "ename": "FileNotFoundError",
     "evalue": "[Errno 2] No such file or directory: '/datc/shipping/processed_pictures_j/frames/frame_268.jpg'",
     "traceback": [
      "\u001b[1;31m---------------------------------------------------------------------------\u001b[0m",
      "\u001b[1;31mFileNotFoundError\u001b[0m                         Traceback (most recent call last)",
      "\u001b[1;32m<ipython-input-22-10ff6c7862b5>\u001b[0m in \u001b[0;36m<module>\u001b[1;34m()\u001b[0m\n\u001b[0;32m      4\u001b[0m \u001b[0mimg_overlay\u001b[0m \u001b[1;33m=\u001b[0m \u001b[1;34m'/datc/shipping/processed_pictures_j/overlays/frame_'\u001b[0m \u001b[1;33m+\u001b[0m \u001b[0mstr\u001b[0m\u001b[1;33m(\u001b[0m\u001b[0mselect_frame_number\u001b[0m\u001b[1;33m)\u001b[0m \u001b[1;33m+\u001b[0m \u001b[1;34m'_mask.gif'\u001b[0m\u001b[1;33m\u001b[0m\u001b[0m\n\u001b[0;32m      5\u001b[0m \u001b[1;33m\u001b[0m\u001b[0m\n\u001b[1;32m----> 6\u001b[1;33m \u001b[0mread_img_frame\u001b[0m \u001b[1;33m=\u001b[0m \u001b[0mplt\u001b[0m\u001b[1;33m.\u001b[0m\u001b[0mimread\u001b[0m\u001b[1;33m(\u001b[0m\u001b[0mimg_frame\u001b[0m\u001b[1;33m)\u001b[0m\u001b[1;33m\u001b[0m\u001b[0m\n\u001b[0m\u001b[0;32m      7\u001b[0m \u001b[0mread_img_overlay\u001b[0m \u001b[1;33m=\u001b[0m \u001b[0mplt\u001b[0m\u001b[1;33m.\u001b[0m\u001b[0mimread\u001b[0m\u001b[1;33m(\u001b[0m\u001b[0mimg_overlay\u001b[0m\u001b[1;33m)\u001b[0m\u001b[1;33m\u001b[0m\u001b[0m\n\u001b[0;32m      8\u001b[0m \u001b[1;33m\u001b[0m\u001b[0m\n",
      "\u001b[1;32mC:\\ProgramData\\Anaconda3\\lib\\site-packages\\matplotlib\\pyplot.py\u001b[0m in \u001b[0;36mimread\u001b[1;34m(*args, **kwargs)\u001b[0m\n\u001b[0;32m   2371\u001b[0m \u001b[1;33m@\u001b[0m\u001b[0mdocstring\u001b[0m\u001b[1;33m.\u001b[0m\u001b[0mcopy_dedent\u001b[0m\u001b[1;33m(\u001b[0m\u001b[0m_imread\u001b[0m\u001b[1;33m)\u001b[0m\u001b[1;33m\u001b[0m\u001b[0m\n\u001b[0;32m   2372\u001b[0m \u001b[1;32mdef\u001b[0m \u001b[0mimread\u001b[0m\u001b[1;33m(\u001b[0m\u001b[1;33m*\u001b[0m\u001b[0margs\u001b[0m\u001b[1;33m,\u001b[0m \u001b[1;33m**\u001b[0m\u001b[0mkwargs\u001b[0m\u001b[1;33m)\u001b[0m\u001b[1;33m:\u001b[0m\u001b[1;33m\u001b[0m\u001b[0m\n\u001b[1;32m-> 2373\u001b[1;33m     \u001b[1;32mreturn\u001b[0m \u001b[0m_imread\u001b[0m\u001b[1;33m(\u001b[0m\u001b[1;33m*\u001b[0m\u001b[0margs\u001b[0m\u001b[1;33m,\u001b[0m \u001b[1;33m**\u001b[0m\u001b[0mkwargs\u001b[0m\u001b[1;33m)\u001b[0m\u001b[1;33m\u001b[0m\u001b[0m\n\u001b[0m\u001b[0;32m   2374\u001b[0m \u001b[1;33m\u001b[0m\u001b[0m\n\u001b[0;32m   2375\u001b[0m \u001b[1;33m\u001b[0m\u001b[0m\n",
      "\u001b[1;32mC:\\ProgramData\\Anaconda3\\lib\\site-packages\\matplotlib\\image.py\u001b[0m in \u001b[0;36mimread\u001b[1;34m(fname, format)\u001b[0m\n\u001b[0;32m   1355\u001b[0m \u001b[1;33m\u001b[0m\u001b[0m\n\u001b[0;32m   1356\u001b[0m     \u001b[1;32mif\u001b[0m \u001b[0mext\u001b[0m \u001b[1;32mnot\u001b[0m \u001b[1;32min\u001b[0m \u001b[0mhandlers\u001b[0m\u001b[1;33m:\u001b[0m\u001b[1;33m\u001b[0m\u001b[0m\n\u001b[1;32m-> 1357\u001b[1;33m         \u001b[0mim\u001b[0m \u001b[1;33m=\u001b[0m \u001b[0mpilread\u001b[0m\u001b[1;33m(\u001b[0m\u001b[0mfname\u001b[0m\u001b[1;33m)\u001b[0m\u001b[1;33m\u001b[0m\u001b[0m\n\u001b[0m\u001b[0;32m   1358\u001b[0m         \u001b[1;32mif\u001b[0m \u001b[0mim\u001b[0m \u001b[1;32mis\u001b[0m \u001b[1;32mNone\u001b[0m\u001b[1;33m:\u001b[0m\u001b[1;33m\u001b[0m\u001b[0m\n\u001b[0;32m   1359\u001b[0m             raise ValueError('Only know how to handle extensions: %s; '\n",
      "\u001b[1;32mC:\\ProgramData\\Anaconda3\\lib\\site-packages\\matplotlib\\image.py\u001b[0m in \u001b[0;36mpilread\u001b[1;34m(fname)\u001b[0m\n\u001b[0;32m   1333\u001b[0m         \u001b[1;32mexcept\u001b[0m \u001b[0mImportError\u001b[0m\u001b[1;33m:\u001b[0m\u001b[1;33m\u001b[0m\u001b[0m\n\u001b[0;32m   1334\u001b[0m             \u001b[1;32mreturn\u001b[0m \u001b[1;32mNone\u001b[0m\u001b[1;33m\u001b[0m\u001b[0m\n\u001b[1;32m-> 1335\u001b[1;33m         \u001b[1;32mwith\u001b[0m \u001b[0mImage\u001b[0m\u001b[1;33m.\u001b[0m\u001b[0mopen\u001b[0m\u001b[1;33m(\u001b[0m\u001b[0mfname\u001b[0m\u001b[1;33m)\u001b[0m \u001b[1;32mas\u001b[0m \u001b[0mimage\u001b[0m\u001b[1;33m:\u001b[0m\u001b[1;33m\u001b[0m\u001b[0m\n\u001b[0m\u001b[0;32m   1336\u001b[0m             \u001b[1;32mreturn\u001b[0m \u001b[0mpil_to_array\u001b[0m\u001b[1;33m(\u001b[0m\u001b[0mimage\u001b[0m\u001b[1;33m)\u001b[0m\u001b[1;33m\u001b[0m\u001b[0m\n\u001b[0;32m   1337\u001b[0m \u001b[1;33m\u001b[0m\u001b[0m\n",
      "\u001b[1;32mC:\\ProgramData\\Anaconda3\\lib\\site-packages\\PIL\\Image.py\u001b[0m in \u001b[0;36mopen\u001b[1;34m(fp, mode)\u001b[0m\n\u001b[0;32m   2578\u001b[0m \u001b[1;33m\u001b[0m\u001b[0m\n\u001b[0;32m   2579\u001b[0m     \u001b[1;32mif\u001b[0m \u001b[0mfilename\u001b[0m\u001b[1;33m:\u001b[0m\u001b[1;33m\u001b[0m\u001b[0m\n\u001b[1;32m-> 2580\u001b[1;33m         \u001b[0mfp\u001b[0m \u001b[1;33m=\u001b[0m \u001b[0mbuiltins\u001b[0m\u001b[1;33m.\u001b[0m\u001b[0mopen\u001b[0m\u001b[1;33m(\u001b[0m\u001b[0mfilename\u001b[0m\u001b[1;33m,\u001b[0m \u001b[1;34m\"rb\"\u001b[0m\u001b[1;33m)\u001b[0m\u001b[1;33m\u001b[0m\u001b[0m\n\u001b[0m\u001b[0;32m   2581\u001b[0m         \u001b[0mexclusive_fp\u001b[0m \u001b[1;33m=\u001b[0m \u001b[1;32mTrue\u001b[0m\u001b[1;33m\u001b[0m\u001b[0m\n\u001b[0;32m   2582\u001b[0m \u001b[1;33m\u001b[0m\u001b[0m\n",
      "\u001b[1;31mFileNotFoundError\u001b[0m: [Errno 2] No such file or directory: '/datc/shipping/processed_pictures_j/frames/frame_268.jpg'"
     ],
     "output_type": "error"
    }
   ],
   "source": [
    "select_frame_number = 268\n",
    "\n",
    "img_frame = '/datc/shipping/processed_pictures_j/frames/frame_'+ str(select_frame_number)+'.jpg'\n",
    "img_overlay = '/datc/shipping/processed_pictures_j/overlays/frame_' + str(select_frame_number) + '_mask.gif'\n",
    "\n",
    "read_img_frame = plt.imread(img_frame)\n",
    "read_img_overlay = plt.imread(img_overlay)\n",
    "\n",
    "plt.subplot(2,1,1)\n",
    "plt.imshow(read_img_frame)\n",
    "plt.title('frame')\n",
    "plt.axis('off')\n",
    "\n",
    "plt.subplot(2,1,2)\n",
    "plt.imshow(read_img_overlay)\n",
    "plt.title('overlay')\n",
    "plt.axis('off')\n",
    "\n",
    "plt.show()"
   ]
  },
  {
   "cell_type": "code",
   "execution_count": 31,
   "metadata": {},
   "outputs": [
    {
     "name": "stdout",
     "output_type": "stream",
     "text": [
      "/datc/shipping/origional_pictures_j/frames_test/frame_266.jpg\n"
     ]
    }
   ],
   "source": []
  },
  {
   "cell_type": "code",
   "execution_count": null,
   "metadata": {},
   "outputs": [],
   "source": []
  }
 ],
 "metadata": {
  "kernelspec": {
   "display_name": "Python 3",
   "language": "python",
   "name": "python3"
  },
  "language_info": {
   "codemirror_mode": {
    "name": "ipython",
    "version": 3
   },
   "file_extension": ".py",
   "mimetype": "text/x-python",
   "name": "python",
   "nbconvert_exporter": "python",
   "pygments_lexer": "ipython3",
   "version": "3.7.0"
  }
 },
 "nbformat": 4,
 "nbformat_minor": 1
}
