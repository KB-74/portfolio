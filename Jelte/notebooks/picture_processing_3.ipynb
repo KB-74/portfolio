{
 "cells": [
  {
   "cell_type": "markdown",
   "metadata": {},
   "source": [
    "# Picture processing\n",
    "\n",
    "by: <br/>\n",
    "Jelte Molenaar <br/>\n",
    "Michiel van Soest\n",
    "\n",
    "In deze notebook worden de huidige afbeeldingen aangepast en opgeslagen om meer data te creëren voor het RCNN."
   ]
  },
  {
   "cell_type": "code",
   "execution_count": 1,
   "metadata": {},
   "outputs": [],
   "source": [
    "from PIL import Image\n",
    "from PIL import ImageEnhance\n",
    "import glob\n",
    "import matplotlib.pyplot as plt"
   ]
  },
  {
   "cell_type": "code",
   "execution_count": 2,
   "metadata": {},
   "outputs": [],
   "source": [
    "# folder path voor de output\n",
    "folder_path = \"/datc/shipping/processed_pictures_j/frames/\""
   ]
  },
  {
   "cell_type": "markdown",
   "metadata": {},
   "source": [
    "## Aanpassingen op de originele frame"
   ]
  },
  {
   "cell_type": "code",
   "execution_count": 3,
   "metadata": {},
   "outputs": [],
   "source": [
    "brightness_factor = [0.3,1.4]        # [0.4,0.5,0.6,0.7,0.8,0.9,1.1,1.2,1.3,1.4]\n",
    "contrast_factor   = [0.3,1.4]        # [0.4,0.5,0.6,0.7,0.8,0.9,1.0,1.2,1.3,1.4]\n",
    "sharpness_factor  = [5.0,20.0]        # [5.0, 10.0, 15.0, 20.0]\n",
    "color_factor      = [0.0,10.0]             # [0.0, 3.0, 6.0, 10.0]\n",
    "mirror_factor     = [1]"
   ]
  },
  {
   "cell_type": "markdown",
   "metadata": {},
   "source": [
    "## Functies"
   ]
  },
  {
   "cell_type": "code",
   "execution_count": 4,
   "metadata": {},
   "outputs": [],
   "source": [
    "def adjust_brightness(img_origional, frame_number, brightness_factor):\n",
    "    frame_savename = folder_path + 'frame_' + str(frame_number) +'.jpg'\n",
    "    enhancer_object = ImageEnhance.Brightness(img_origional)\n",
    "    out = enhancer_object.enhance(brightness_factor)\n",
    "    out.save(frame_savename)\n"
   ]
  },
  {
   "cell_type": "code",
   "execution_count": 5,
   "metadata": {},
   "outputs": [],
   "source": [
    "def adjust_contrast(img_origional, frame_number, contrast_factor):\n",
    "    frame_savename = folder_path + 'frame_' + str(frame_number) +'.jpg'\n",
    "    enhancer_object = ImageEnhance.Contrast(img_origional)\n",
    "    out = enhancer_object.enhance(contrast_factor)\n",
    "    out.save(frame_savename)\n",
    "    "
   ]
  },
  {
   "cell_type": "code",
   "execution_count": 6,
   "metadata": {},
   "outputs": [],
   "source": [
    "def adjust_sharpness(img_origional, frame_number, sharpness_factor):\n",
    "    frame_savename = folder_path + 'frame_' + str(frame_number) +'.jpg'\n",
    "    enhancer_object = ImageEnhance.Sharpness(img_origional)\n",
    "    out = enhancer_object.enhance(sharpness_factor)\n",
    "    out.save(frame_savename)"
   ]
  },
  {
   "cell_type": "code",
   "execution_count": 7,
   "metadata": {},
   "outputs": [],
   "source": [
    "def adjust_color(img_origional, frame_number, color_factor):\n",
    "    frame_savename =  folder_path + 'frame_' + str(frame_number) +'.jpg'\n",
    "    enhancer_object = ImageEnhance.Color(img_origional)\n",
    "    out = enhancer_object.enhance(color_factor)\n",
    "    out.save(frame_savename)"
   ]
  },
  {
   "cell_type": "code",
   "execution_count": 8,
   "metadata": {},
   "outputs": [],
   "source": [
    "def copy_overlay(overlay_origional, frame_number, overlay_number):\n",
    "    overlay_savename = \"/datc/shipping/processed_pictures_j/overlays/frame_\"+ str(frame_number) +'_mask.gif'\n",
    "    overlay_origional.save(overlay_savename)"
   ]
  },
  {
   "cell_type": "code",
   "execution_count": 9,
   "metadata": {
    "scrolled": true
   },
   "outputs": [],
   "source": [
    "def mirror_image_origional(img_origional, frame_number, mirror_factor):\n",
    "    frame_savename =  folder_path + 'frame_' + str(frame_number) +'.jpg'\n",
    "    out = img_origional.transpose(Image.FLIP_LEFT_RIGHT)\n",
    "    out.save(frame_savename)"
   ]
  },
  {
   "cell_type": "code",
   "execution_count": 10,
   "metadata": {},
   "outputs": [],
   "source": [
    "def mirror_image_overlay(overlay_origional, frame_number, overlay_number):\n",
    "    overlay_savename = \"/datc/shipping/processed_pictures_j/overlays/frame_\"+ str(frame_number) +'_mask.gif'\n",
    "    out = overlay_origional.transpose(Image.FLIP_LEFT_RIGHT)\n",
    "    out.save(overlay_savename)"
   ]
  },
  {
   "cell_type": "markdown",
   "metadata": {},
   "source": [
    "### Loop - functie"
   ]
  },
  {
   "cell_type": "code",
   "execution_count": 11,
   "metadata": {},
   "outputs": [],
   "source": [
    "def changeimage(location_frames,brightness_factor,contrast_factor,sharpness_factor,color_factor, frame_number, location_overlays):\n",
    "    img_origional = Image.open(location_frames)\n",
    "    overlay_origional = Image.open(location_overlays)\n",
    "    for x in brightness_factor:\n",
    "        frame_number = frame_number + 1\n",
    "        adjust_brightness(img_origional, frame_number, x)\n",
    "        print(frame_number, \"brightness\", x)\n",
    "        copy_overlay(overlay_origional, frame_number, overlay_number)\n",
    "\n",
    "    for x in contrast_factor:\n",
    "        frame_number = frame_number + 1\n",
    "        adjust_contrast(img_origional, frame_number, x)\n",
    "        print(frame_number, \"contrast\" , x)\n",
    "       \n",
    "        copy_overlay(overlay_origional, frame_number, overlay_number)\n",
    "\n",
    "    for x in sharpness_factor:\n",
    "        frame_number = frame_number + 1\n",
    "        adjust_sharpness(img_origional, frame_number, x)\n",
    "        print(frame_number, \"sharpness\", x)\n",
    "     \n",
    "        copy_overlay(overlay_origional, frame_number, overlay_number)\n",
    "\n",
    "    for x in color_factor:\n",
    "        frame_number = frame_number + 1\n",
    "        adjust_color(img_origional, frame_number, x)\n",
    "        print(frame_number, \"Color\", x)\n",
    "     \n",
    "        copy_overlay(overlay_origional, frame_number, overlay_number)\n",
    "    \n",
    "    for x in mirror_factor:\n",
    "        frame_number = frame_number + 1\n",
    "        mirror_image_origional(img_origional, frame_number, x)\n",
    "        print(frame_number, \"mirror origional\")\n",
    "    \n",
    "        mirror_image_overlay(overlay_origional, frame_number, overlay_number)\n",
    "        \n",
    "    return frame_number        "
   ]
  },
  {
   "cell_type": "markdown",
   "metadata": {},
   "source": [
    "## opschonen output directory"
   ]
  },
  {
   "cell_type": "code",
   "execution_count": 12,
   "metadata": {},
   "outputs": [],
   "source": [
    "#clean directory\n",
    "\n",
    "import glob, os, os.path\n",
    "\n",
    "mydir = '/datc/shipping/processed_pictures_j/frames/'\n",
    "\n",
    "filelist = glob.glob(os.path.join(mydir, \"*.jpg\"))\n",
    "for f in filelist:\n",
    "    os.remove(f)\n",
    "    \n",
    "mydir = '/datc/shipping/processed_pictures_j/overlays/'\n",
    "\n",
    "filelist = glob.glob(os.path.join(mydir, \"*.gif\"))\n",
    "for f in filelist:\n",
    "    os.remove(f)\n"
   ]
  },
  {
   "cell_type": "markdown",
   "metadata": {},
   "source": [
    "## aanmaken frames en overlays met aanpassingen"
   ]
  },
  {
   "cell_type": "code",
   "execution_count": 13,
   "metadata": {
    "scrolled": true
   },
   "outputs": [
    {
     "name": "stdout",
     "output_type": "stream",
     "text": [
      "3 frames in directory\n",
      "9 adjustments on frames\n",
      "___________________ bewerken afbeelding 1 ___________________\n",
      "251 brightness 0.3\n",
      "252 brightness 1.4\n",
      "253 contrast 0.3\n",
      "254 contrast 1.4\n",
      "255 sharpness 5.0\n",
      "256 sharpness 20.0\n",
      "257 Color 0.0\n",
      "258 Color 10.0\n",
      "259 mirror origional\n",
      "___________________ bewerken afbeelding 2 ___________________\n",
      "260 brightness 0.3\n",
      "261 brightness 1.4\n",
      "262 contrast 0.3\n",
      "263 contrast 1.4\n",
      "264 sharpness 5.0\n",
      "265 sharpness 20.0\n",
      "266 Color 0.0\n",
      "267 Color 10.0\n",
      "268 mirror origional\n",
      "___________________ bewerken afbeelding 3 ___________________\n",
      "269 brightness 0.3\n",
      "270 brightness 1.4\n",
      "271 contrast 0.3\n",
      "272 contrast 1.4\n",
      "273 sharpness 5.0\n",
      "274 sharpness 20.0\n",
      "275 Color 0.0\n",
      "276 Color 10.0\n",
      "277 mirror origional\n"
     ]
    }
   ],
   "source": [
    "#\"test weghalen als het geen test meer is\"\n",
    "frame_number = 250\n",
    "overlay_number = 9999\n",
    "\n",
    "frames_number = glob.glob(\"/datc/shipping/origional_pictures_j/frames_test/*\")\n",
    "frames_number = len(frames_number)\n",
    "print(frames_number, \"frames in directory\"  )\n",
    "frames =  len(brightness_factor) + len(sharpness_factor) + len(color_factor) + len(contrast_factor) + len(mirror_factor) #aantal bewerkingen\n",
    "print(frames, \"adjustments on frames\"  )\n",
    "\n",
    "frame = \"/datc/shipping/origional_pictures_j/frames_test/frame_1.jpg\" #origional image\n",
    "overlay = '/datc/shipping/origional_pictures_j/overlays_test/frame_1_mask.gif' #origional overlay\n",
    "\n",
    "for i in range(frames_number):\n",
    "    print(\"___________________\",\"bewerken afbeelding\",i + 1,\"___________________\")\n",
    "    changeimage(frame,brightness_factor,contrast_factor,sharpness_factor,color_factor, frame_number, overlay)\n",
    "    frame_number = frame_number + frames\n",
    "    \n",
    "    frame = '/datc/shipping/origional_pictures_j/frames_test/frame_'+str(i + 1)+'.jpg' #origional image\n",
    "    overlay = '/datc/shipping/origional_pictures_j/overlays_test/frame_'+str(i + 1)+'_mask.gif' #origional overlay\n"
   ]
  },
  {
   "cell_type": "markdown",
   "metadata": {},
   "source": [
    "# Visualiseren"
   ]
  },
  {
   "cell_type": "code",
   "execution_count": 40,
   "metadata": {},
   "outputs": [
    {
     "data": {
      "image/png": "[encoded data removed]",
      "text/plain": [
       "<Figure size 432x288 with 2 Axes>"
      ]
     },
     "metadata": {
      "needs_background": "light"
     },
     "output_type": "display_data"
    }
   ],
   "source": [
    "select_frame_number = 268\n",
    "\n",
    "img_frame = '/datc/shipping/processed_pictures_j/frames/frame_'+ str(select_frame_number)+'.jpg'\n",
    "img_overlay = '/datc/shipping/processed_pictures_j/overlays/frame_' + str(select_frame_number) + '_mask.gif'\n",
    "\n",
    "read_img_frame = plt.imread(img_frame)\n",
    "read_img_overlay = plt.imread(img_overlay)\n",
    "\n",
    "plt.subplot(2,1,1)\n",
    "plt.imshow(read_img_frame)\n",
    "plt.title('frame')\n",
    "plt.axis('off')\n",
    "\n",
    "plt.subplot(2,1,2)\n",
    "plt.imshow(read_img_overlay)\n",
    "plt.title('overlay')\n",
    "plt.axis('off')\n",
    "\n",
    "plt.show()"
   ]
  },
  {
   "cell_type": "code",
   "execution_count": 31,
   "metadata": {},
   "outputs": [
    {
     "name": "stdout",
     "output_type": "stream",
     "text": [
      "/datc/shipping/origional_pictures_j/frames_test/frame_266.jpg\n"
     ]
    }
   ],
   "source": [
    ""
   ]
  },
  {
   "cell_type": "code",
   "execution_count": null,
   "metadata": {},
   "outputs": [],
   "source": []
  }
 ],
 "metadata": {
  "kernelspec": {
   "display_name": "Python 3",
   "language": "python",
   "name": "python3"
  },
  "language_info": {
   "codemirror_mode": {
    "name": "ipython",
    "version": 3
   },
   "file_extension": ".py",
   "mimetype": "text/x-python",
   "name": "python",
   "nbconvert_exporter": "python",
   "pygments_lexer": "ipython3",
   "version": "3.6.6"
  }
 },
 "nbformat": 4,
 "nbformat_minor": 1
}
