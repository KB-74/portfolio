{
 "cells": [
  {
   "cell_type": "markdown",
   "metadata": {},
   "source": [
    "# Fisheye Undistored\n",
    "\n",
    "By: Job Vink en Jelte Molenaar\n",
    "\n",
    "Dit script verwijderd de bolling in de cammerabeelden. "
   ]
  },
  {
   "cell_type": "markdown",
   "metadata": {},
   "source": [
    "## Importeren\n",
    "In het eerste gedeelte van de code worden de benodigde libaries geimporteerd. In de OpenCV libary zitten de benodigde functies om bolling in de cammerabeelden te verwijderden. "
   ]
  },
  {
   "cell_type": "code",
   "execution_count": 1,
   "metadata": {
    "collapsed": true
   },
   "outputs": [],
   "source": [
    "import cv2\n",
    "import matplotlib.pyplot as plt\n",
    "import numpy as np"
   ]
  },
  {
   "cell_type": "markdown",
   "metadata": {},
   "source": [
    "## Input functie\n",
    "In de cel hieronder worden de verschillende inputs van de functie gedefinieerd. Meest van deze waarde zijn in het script [fisheye_configuration](https://github.com/KB-74/portfolio/blob/master/Job/notebooks/fisheye_configuration.ipynb). Dit script is geschreven door Job.\n",
    "\n",
    "DIM = resolutie van de undistored image\n",
    "\n",
    "K = camera matrix\n",
    "\n",
    "D = input vector of distortion coefficients (K1, K2, K3, K4)"
   ]
  },
  {
   "cell_type": "code",
   "execution_count": 2,
   "metadata": {},
   "outputs": [],
   "source": [
    "base_path = 'job/resources/fisheye/'\n",
    "DIM=(1920, 1080)\n",
    "K=np.array([\n",
    "    [1339.2898532184101, 0.0, 912.605852159453],\n",
    "    [0.0, 1334.6227716562116, 540.699525078661],\n",
    "    [0.0, 0.0, 1.0]])\n",
    "D=np.array([[-0.019105044374337198], [0.26447332249046934], [-0.7164055812838268], [0.6830070634869604]])"
   ]
  },
  {
   "cell_type": "markdown",
   "metadata": {},
   "source": [
    "## Uitvoering\n",
    "In de cel hieronder wordt daadwerkelijk het beeld geundistord."
   ]
  },
  {
   "cell_type": "code",
   "execution_count": 3,
   "metadata": {},
   "outputs": [
    {
     "data": {
      "text/plain": [
       "True"
      ]
     },
     "execution_count": 3,
     "metadata": {},
     "output_type": "execute_result"
    }
   ],
   "source": [
    "def undistort(img_path):\n",
    "    img = cv2.imread(img_path)\n",
    "    map1, map2 = cv2.fisheye.initUndistortRectifyMap(K, D, np.eye(3), K, DIM, cv2.CV_16SC2)\n",
    "    return cv2.remap(img, map1, map2, interpolation=cv2.INTER_LINEAR, borderMode=cv2.BORDER_CONSTANT)\n",
    "\n",
    "undistorted_img = undistort(base_path + 'camera_frame.jpg')\n",
    "cv2.imwrite(base_path + 'undistorted_image.png', undistorted_img)"
   ]
  },
  {
   "cell_type": "markdown",
   "metadata": {},
   "source": [
    "bron: https://docs.opencv.org/3.4/db/d58/group__calib3d__fisheye.html"
   ]
  },
  {
   "cell_type": "code",
   "execution_count": null,
   "metadata": {},
   "outputs": [],
   "source": []
  }
 ],
 "metadata": {
  "kernelspec": {
   "display_name": "Python 3",
   "language": "python",
   "name": "python3"
  },
  "language_info": {
   "codemirror_mode": {
    "name": "ipython",
    "version": 3
   },
   "file_extension": ".py",
   "mimetype": "text/x-python",
   "name": "python",
   "nbconvert_exporter": "python",
   "pygments_lexer": "ipython3",
   "version": "3.6.7"
  }
 },
 "nbformat": 4,
 "nbformat_minor": 1
}
