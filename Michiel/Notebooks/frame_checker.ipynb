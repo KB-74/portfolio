{
 "cells": [
  {
   "cell_type": "markdown",
   "metadata": {},
   "source": [
    "# Data preperation\n",
    "\n",
    "Deze notebook kan gebruikt worden om de reeds automatisch gelabelde data te controleren (data die reeds gelabeld is door ons eigen wall_algorithm of andere reeds gelabelde data).  \n",
    "\n",
    "Onderstaande code doet dit door de overlay en de image waar de overlay bij hoort over elkaar heen te leggen. Door y of n te klikken word de overlay en het plaatje in de juiste map ingedeeld waarna de fout gelabelde data met de hand kan worden gelabeld."
   ]
  },
  {
   "cell_type": "markdown",
   "metadata": {},
   "source": [
    "## HOW TO:\n",
    "\n",
    "Pas de paths aan en maak waar nodig de juiste directories om de data in te kopieren.\n",
    "\n",
    "gebruik:\n",
    "y - als het frame goed is\n",
    "n - als het frame fout is"
   ]
  },
  {
   "cell_type": "code",
   "execution_count": null,
   "metadata": {},
   "outputs": [],
   "source": [
    "import tkinter\n",
    "import json\n",
    "import PIL.Image\n",
    "import PIL.ImageTk\n",
    "import cv2\n",
    "\n",
    "class App:\n",
    "    window: tkinter.Tk\n",
    "\n",
    "    def __init__(self, window, window_title):\n",
    "        self.window = window\n",
    "        self.window.title(window_title)\n",
    "        self.window.bind(\"<Key>\", self.key_press)\n",
    "        self.points = []\n",
    "        self.frame_number = 0\n",
    "        self.frames_json = json.load(open('labeled_data/raw_frames_info.json', 'r'))\n",
    "        self.overlays_json = json.load(open('labeled_data/raw_overlays_info.json', 'r'))\n",
    "\n",
    "        # Load an images using OpenCV and convert it to RGBA\n",
    "        print(self.frames_json[self.frame_number]['file_path'])\n",
    "        self.frame_RGBA_converted = cv2.cvtColor(cv2.imread('./' + self.frames_json[self.frame_number]['file_path']), cv2.COLOR_RGB2RGBA)\n",
    "        self.overlay_RGBA_converted = cv2.cvtColor(cv2.imread(self.overlays_json[self.frame_number]['file_path']), cv2.COLOR_RGB2RGBA)\n",
    "\n",
    "        # Get the image dimensions (OpenCV stores image data as NumPy ndarray)\n",
    "        self.height, self.width, no_channels = self.frame_RGBA_converted.shape\n",
    "\n",
    "        # Create a canvas that can fit the above image\n",
    "        self.canvas = tkinter.Canvas(self.window, width=self.width, height=self.height)\n",
    "        self.canvas.pack()\n",
    "        self.load_image(self.frames_json[self.frame_number]['file_path'], self.overlays_json[self.frame_number]['file_path'])\n",
    "        self.frame_number += 1\n",
    "\n",
    "        self.window.mainloop()\n",
    "\n",
    "    def key_press(self, event):\n",
    "        if event.char == 'y':\n",
    "            cv2.imwrite('./labeled_data/frames/frames_goed/frame_{}.png'.format(self.frame_number), self.frame_RGBA_converted)\n",
    "            cv2.imwrite('./labeled_data/overlays/overlays_goed/overlay_{}.png'.format(self.frame_number), self.overlay_RGBA_converted)\n",
    "\n",
    "            self.canvas.delete('all')\n",
    "            self.load_image(self.frames_json[self.frame_number]['file_path'], self.overlays_json[self.frame_number]['file_path'])\n",
    "            self.frame_number += 1\n",
    "\n",
    "        if event.char == 'n':\n",
    "            cv2.imwrite('./labeled_data/frames/frames_fout/frame_{}.png'.format(self.frame_number), self.frame_RGBA_converted)\n",
    "            cv2.imwrite('./labeled_data/overlays/overlays_fout/overlay_{}.png'.format(self.frame_number), self.overlay_RGBA_converted)\n",
    "\n",
    "            self.canvas.delete('all')\n",
    "            self.load_image(self.frames_json[self.frame_number]['file_path'], self.overlays_json[self.frame_number]['file_path'])\n",
    "            self.frame_number += 1\n",
    "\n",
    "    def load_image(self, frame_path, overlay_path):\n",
    "        self.frame_RGBA_converted = cv2.cvtColor(cv2.imread(frame_path), cv2.COLOR_RGB2RGBA)\n",
    "        self.overlay_RGBA_converted = cv2.cvtColor(cv2.imread(overlay_path), cv2.COLOR_RGB2RGBA)\n",
    "\n",
    "        # Use OpenCV to combine images\n",
    "        self.merged_image = cv2.addWeighted(self.frame_RGBA_converted, 0.5, self.overlay_RGBA_converted, 0.5, 0)\n",
    "\n",
    "        # Use PIL (Pillow) to convert the NumPy ndarray to a PhotoImage\n",
    "        self.photo = PIL.ImageTk.PhotoImage(image=PIL.Image.fromarray(self.merged_image))\n",
    "\n",
    "        # Add a PhotoImage to the Canvas\n",
    "        self.canvas.create_image(0, 0, image=self.photo, anchor=tkinter.NW)\n",
    "\n",
    "\n",
    "# Create a window and pass it to the Application object\n",
    "App(tkinter.Tk(), \"Tkinter and OpenCV\")\n"
   ]
  },
  {
   "cell_type": "code",
   "execution_count": 5,
   "metadata": {},
   "outputs": [],
   "source": [
    "import matplotlib.pyplot as plt\n",
    "\n",
    "plt.imshow(plt.imread('Michiel/pictures/frame_checker.PNG'))\n",
    "\n",
    "plt.show()"
   ]
  },
  {
   "cell_type": "code",
   "execution_count": null,
   "metadata": {},
   "outputs": [],
   "source": []
  }
 ],
 "metadata": {
  "kernelspec": {
   "display_name": "Python 2",
   "language": "python",
   "name": "python2"
  },
  "language_info": {
   "codemirror_mode": {
    "name": "ipython",
    "version": 2
   },
   "file_extension": ".py",
   "mimetype": "text/x-python",
   "name": "python",
   "nbconvert_exporter": "python",
   "pygments_lexer": "ipython2",
   "version": "2.7.6"
  }
 },
 "nbformat": 4,
 "nbformat_minor": 0
}
