{
 "cells": [
  {
   "cell_type": "markdown",
   "metadata": {
    "collapsed": true
   },
   "source": [
    "HOW TO:\n",
    "\n",
    "!DO NOT RESIZE WINDOW OR GO INTO FULL SCREEN MODE!\n",
    "\n",
    "use the 's' on your keyboard to save and load a new image\n",
    "use the 'r' on your keyboard to remove your previous point\n",
    "    (this does not remove the visual point)"
   ]
  },
  {
   "cell_type": "code",
   "execution_count": null,
   "metadata": {
    "collapsed": true
   },
   "outputs": [],
   "source": [
    "import tkinter\n",
    "import json\n",
    "import PIL.Image\n",
    "import PIL.ImageTk\n",
    "import cv2\n",
    "import csv\n",
    "\n",
    "class App:\n",
    "    window: tkinter.Tk\n",
    "\n",
    "    def __init__(self, window, window_title):\n",
    "        self.window = window\n",
    "        self.window.title(window_title)\n",
    "        self.window.bind(\"<Button-1>\", self.mouse_click)\n",
    "        self.window.bind(\"<Key>\", self.key_press)\n",
    "        self.points = []\n",
    "        self.frame_number = 0\n",
    "        file = open('labeled_data/raw_frames_info.json', 'r')\n",
    "        self.frames = json.load(file)\n",
    "\n",
    "\n",
    "        # Load an image using OpenCV\n",
    "        self.cv_img = cv2.cvtColor(cv2.imread(self.frames[self.frame_number]['file_path']), cv2.COLOR_BGR2RGB)\n",
    "\n",
    "        # Get the image dimensions (OpenCV stores image data as NumPy ndarray)\n",
    "        self.height, self.width, no_channels = self.cv_img.shape\n",
    "\n",
    "        # Create a canvas that can fit the above image\n",
    "        self.canvas = tkinter.Canvas(self.window, width=self.width, height=self.height)\n",
    "        self.canvas.pack()\n",
    "        self.load_image(self.frames[self.frame_number]['file_path'])\n",
    "        self.frame_number += 1\n",
    "\n",
    "        self.window.mainloop()\n",
    "\n",
    "    def mouse_click(self, event):\n",
    "        print('mouse clicked', event.x, event.y)\n",
    "        x = event.x\n",
    "        y = event.y\n",
    "        r = 3\n",
    "        self.canvas.create_oval(x - r, y - r, x + r, y + r, fill=\"red\", outline=\"\")\n",
    "        self.points.append([x, y])\n",
    "\n",
    "    def key_press(self, event):\n",
    "        if event.char == 'p':\n",
    "            self.points.append(['p', 'p'])\n",
    "            \n",
    "        if event.char == 's':\n",
    "            file = open('./labeled_data/labels/frame_' + str(self.frame_number) + '_points.csv', 'w', newline='')\n",
    "            csv_writer = csv.writer(file, delimiter=',')\n",
    "            csv_writer.writerows(self.points)\n",
    "\n",
    "         #   cv2.imwrite('./labeled_data/frames/frame_{}.jpg'.format(self.frame_number), self.cv_img)\n",
    "\n",
    "            self.canvas.delete('all')\n",
    "            self.load_image(self.frames[self.frame_number]['file_path'])\n",
    "            self.frame_number += 1\n",
    "            self.points = []\n",
    "\n",
    "        if event.char == 'r':\n",
    "            del self.points[-1]\n",
    "\n",
    "    def load_image(self, file_name):\n",
    "        self.cv_img = cv2.imread(file_name)\n",
    "\n",
    "        # Use PIL (Pillow) to convert the NumPy ndarray to a PhotoImage\n",
    "        self.photo = PIL.ImageTk.PhotoImage(image=PIL.Image.fromarray(self.cv_img))\n",
    "\n",
    "        # Add a PhotoImage to the Canvas\n",
    "        self.canvas.create_image(0, 0, image=self.photo, anchor=tkinter.NW)\n",
    "\n",
    "\n",
    "\n",
    "\n",
    "# Create a window and pass it to the Application object\n",
    "App(tkinter.Tk(), \"Tkinter and OpenCV\")\n"
   ]
  }
 ],
 "metadata": {
  "kernelspec": {
   "display_name": "Python 2",
   "language": "python",
   "name": "python2"
  },
  "language_info": {
   "codemirror_mode": {
    "name": "ipython",
    "version": 2
   },
   "file_extension": ".py",
   "mimetype": "text/x-python",
   "name": "python",
   "nbconvert_exporter": "python",
   "pygments_lexer": "ipython2",
   "version": "2.7.6"
  }
 },
 "nbformat": 4,
 "nbformat_minor": 0
}
