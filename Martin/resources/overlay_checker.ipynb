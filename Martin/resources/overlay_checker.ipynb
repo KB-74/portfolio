{
 "cells": [
  {
   "cell_type": "code",
   "execution_count": 2,
   "metadata": {},
   "outputs": [
    {
     "name": "stdout",
     "output_type": "stream",
     "text": [
      "<PIL.JpegImagePlugin.JpegImageFile image mode=RGB size=1600x900 at 0x7F5DED331160>\n",
      "<PIL.Image.Image image mode=RGBA size=1920x1080 at 0x7F5DED3310B8>\n",
      "<PIL.Image.Image image mode=RGBA size=1920x1080 at 0x7F5DED331240>\n",
      "None\n"
     ]
    }
   ],
   "source": [
    "from PIL import Image\n",
    "\n",
    "\n",
    "#Function to change the image size\n",
    "def changeImageSize(maxWidth,\n",
    "                    maxHeight,\n",
    "                    image):\n",
    "    widthRatio = maxWidth / image.size[0]\n",
    "    heightRatio = maxHeight / image.size[1]\n",
    "\n",
    "    newWidth = int(widthRatio * image.size[0])\n",
    "    newHeight = int(heightRatio * image.size[1])\n",
    "    newImage = image.resize((newWidth, newHeight))\n",
    "    return newImage\n",
    "\n",
    "\n",
    "# Take two images for blending them together\n",
    "image1 = Image.open(\"camera_3_frame_77.jpg\")\n",
    "image2 = Image.open(\"overlay.png\")\n",
    "print(image2)\n",
    "\n",
    "# Make the images of uniform size\n",
    "image3 = changeImageSize(1920, 1080, image1)\n",
    "image4 = changeImageSize(1920, 1080, image2)\n",
    "\n",
    "# Make sure images got an alpha channel\n",
    "image5 = image3.convert(\"RGBA\")\n",
    "image6 = image4.convert(\"RGBA\")\n",
    "print(image6)\n",
    "\n",
    "# alpha-blend the images with varying values of alpha\n",
    "alphaBlended1 = Image.blend(image5, image6, alpha=.2)\n",
    "print(alphaBlended1)\n",
    "\n",
    "# Display the alpha-blended images\n",
    "print(alphaBlended1.show())"
   ]
  }
 ],
 "metadata": {
  "kernelspec": {
   "display_name": "Python 3",
   "language": "python",
   "name": "python3"
  },
  "language_info": {
   "codemirror_mode": {
    "name": "ipython",
    "version": 3
   },
   "file_extension": ".py",
   "mimetype": "text/x-python",
   "name": "python",
   "nbconvert_exporter": "python",
   "pygments_lexer": "ipython3",
   "version": "3.6.7"
  }
 },
 "nbformat": 4,
 "nbformat_minor": 2
}
