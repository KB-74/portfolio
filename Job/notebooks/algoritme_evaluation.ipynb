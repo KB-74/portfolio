{
 "cells": [
  {
   "cell_type": "code",
   "execution_count": 2,
   "metadata": {},
   "outputs": [
    {
     "name": "stdout",
     "output_type": "stream",
     "text": [
      "True Positives:\t 2037054\nFalse Positives:\t 56664\nFalse Negatives:\t 3\nTrue Negatives:\t 4127079\n"
     ]
    }
   ],
   "source": [
    "import cv2\n",
    "import numpy as np\n",
    "from sklearn.metrics import confusion_matrix"
   ]
  },
  {
   "cell_type": "code",
   "execution_count": 3,
   "metadata": {},
   "outputs": [
    {
     "name": "stdout",
     "output_type": "stream",
     "text": [
      "True Positives:\t 2037054\nFalse Positives:\t 56664\nFalse Negatives:\t 3\nTrue Negatives:\t 4127079\n"
     ]
    }
   ],
   "source": [
    "MASK = 'job/resources/example_data/frame_mask.png'\n",
    "OUTPUT = 'job/resources/example_data/algorithm_output.png'"
   ]
  },
  {
   "cell_type": "code",
   "execution_count": 4,
   "metadata": {},
   "outputs": [
    {
     "name": "stdout",
     "output_type": "stream",
     "text": [
      "True Positives:\t 2037054\nFalse Positives:\t 56664\nFalse Negatives:\t 3\nTrue Negatives:\t 4127079\n"
     ]
    }
   ],
   "source": [
    "performance = np.zeros((2, 2))\n",
    "\n",
    "mask: np.ndarray = cv2.imread(MASK)\n",
    "output: np.ndarray = cv2.imread(OUTPUT)\n",
    "\n",
    "conf_matrix = confusion_matrix(mask.flatten(), output.flatten())"
   ]
  },
  {
   "cell_type": "code",
   "execution_count": 6,
   "metadata": {},
   "outputs": [
    {
     "name": "stdout",
     "output_type": "stream",
     "text": [
      "True Positives:\t 2037054\nFalse Positives:\t 56664\nFalse Negatives:\t 3\nTrue Negatives:\t 4127079\n"
     ]
    }
   ],
   "source": [
    "print('True Positives:\\t {}\\n'\n",
    "      'False Positives:\\t {}\\n'\n",
    "      'False Negatives:\\t {}\\n'\n",
    "      'True Negatives:\\t {}'.format(conf_matrix[0][0],\n",
    "                                    conf_matrix[0][1],\n",
    "                                    conf_matrix[1][0],\n",
    "                                    conf_matrix[1][1]))"
   ]
  },
  {
   "cell_type": "code",
   "execution_count": null,
   "metadata": {},
   "outputs": [],
   "source": []
  }
 ],
 "metadata": {},
 "nbformat": 4,
 "nbformat_minor": 0
}
