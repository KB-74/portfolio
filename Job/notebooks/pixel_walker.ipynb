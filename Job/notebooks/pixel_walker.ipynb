{
 "cells": [
  {
   "cell_type": "code",
   "execution_count": 20,
   "metadata": {},
   "outputs": [],
   "source": [
    "import numpy as np\n",
    "from scipy.spatial import distance\n",
    "import cv2"
   ]
  },
  {
   "cell_type": "code",
   "execution_count": 21,
   "metadata": {},
   "outputs": [],
   "source": [
    "# aan het begin is er nog geen scheiding tussen water en land\n",
    "frame = cv2.imread('Job/resources/example_data/frame_blur.png')\n",
    "found_boundary = None\n",
    "X_START = 100 \n",
    "Y_START = 600\n",
    "DELTA_X = 15\n",
    "DELTA_Y = 15\n",
    "baseline = frame[Y_START, X_START]\n",
    "WIDTH = 1920\n",
    "HEIGHT = 1080"
   ]
  },
  {
   "cell_type": "code",
   "execution_count": 22,
   "metadata": {},
   "outputs": [
    {
     "name": "stdout",
     "output_type": "stream",
     "text": [
      "kade:  [445, 255]\n"
     ]
    }
   ],
   "source": [
    "x_pos = X_START\n",
    "y_pos = Y_START\n",
    "\n",
    "# zolang er geen scheiding tussen water en land is loop de walker verder\n",
    "while not found_boundary:\n",
    "    # bereken de huidige x positie\n",
    "    # door de begin x bij de uitkomst van\n",
    "    # het product met de richtingscooficient\n",
    "    x_pos = x_pos + DELTA_X\n",
    "    y_pos = y_pos - DELTA_Y\n",
    "\n",
    "    # plt.scatter(x_pos, y_pos, c='green', s=5)\n",
    "\n",
    "    # als de walker buiten de image valt break uit de while loop\n",
    "    if x_pos > WIDTH - 1 or x_pos < 0 or y_pos < 0 or y_pos > HEIGHT - 1:\n",
    "        print('No boundary found')\n",
    "        break\n",
    "\n",
    "    # bereken de euclidean distance\n",
    "    average = frame[y_pos, x_pos]\n",
    "    average = average / 255\n",
    "    baseline = baseline / 255\n",
    "    euclidean_distance = distance.euclidean(average, baseline)\n",
    "\n",
    "    # als de euclidean distance groter is dan de voraf gezette boundary\n",
    "    # word boundary gezet en stopt de loop bij de volgende iteratie\n",
    "    if euclidean_distance > .4 and np.all(average < 0.9):\n",
    "        found_boundary = [x_pos, y_pos]\n",
    "        print(\"kade: \", found_boundary)\n",
    "\n",
    "    # gebruik de vorige baseline voor de volgende iteratie\n",
    "    baseline = frame[y_pos, x_pos]\n"
   ]
  },
  {
   "cell_type": "code",
   "execution_count": null,
   "metadata": {},
   "outputs": [],
   "source": []
  }
 ],
 "metadata": {},
 "nbformat": 4,
 "nbformat_minor": 0
}
